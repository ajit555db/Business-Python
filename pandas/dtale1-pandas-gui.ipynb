{
 "cells": [
  {
   "cell_type": "code",
   "execution_count": 4,
   "metadata": {
    "id": "5AQEnNUY5bpm"
   },
   "outputs": [],
   "source": [
    "import pandas as pd\n",
    "import dtale"
   ]
  },
  {
   "cell_type": "code",
   "execution_count": 3,
   "metadata": {},
   "outputs": [],
   "source": [
    "#excel_file = 'data/movies.xlsx'\n",
    "excel_file = 'https://github.com/ajit555db/Business-Python/raw/main/pandas/data/movies.xlsx'\n",
    "df = pd.read_excel(excel_file)"
   ]
  },
  {
   "cell_type": "code",
   "execution_count": 5,
   "metadata": {},
   "outputs": [
    {
     "name": "stderr",
     "output_type": "stream",
     "text": [
      "c:\\Users\\ajit5\\miniconda3\\envs\\ev-pd\\lib\\site-packages\\dtale\\views.py:725: FutureWarning:\n",
      "\n",
      "['Language', 'Content Rating', 'Actor 3'] did not aggregate successfully. If any error is raised this will raise in a future version of pandas. Drop these columns/ops to avoid this warning.\n",
      "\n"
     ]
    }
   ],
   "source": [
    "d = dtale.show(df)"
   ]
  },
  {
   "cell_type": "code",
   "execution_count": 6,
   "metadata": {},
   "outputs": [
    {
     "name": "stderr",
     "output_type": "stream",
     "text": [
      "c:\\Users\\ajit5\\miniconda3\\envs\\ev-pd\\lib\\site-packages\\dtale\\views.py:725: FutureWarning:\n",
      "\n",
      "['Language', 'Content Rating', 'Actor 3'] did not aggregate successfully. If any error is raised this will raise in a future version of pandas. Drop these columns/ops to avoid this warning.\n",
      "\n",
      "c:\\Users\\ajit5\\miniconda3\\envs\\ev-pd\\lib\\site-packages\\dtale\\views.py:725: FutureWarning:\n",
      "\n",
      "['Content Rating'] did not aggregate successfully. If any error is raised this will raise in a future version of pandas. Drop these columns/ops to avoid this warning.\n",
      "\n"
     ]
    },
    {
     "name": "stdout",
     "output_type": "stream",
     "text": [
      "Exception occurred while processing request: Operators do not have the same amount of parts! Please select a new operator with equal rows in each group.\n",
      "NoneType: None\n"
     ]
    },
    {
     "name": "stderr",
     "output_type": "stream",
     "text": [
      "2022-06-05 17:03:44,979 - ERROR    - Exception occurred while processing request: Operators do not have the same amount of parts! Please select a new operator with equal rows in each group.\n",
      "NoneType: None\n"
     ]
    }
   ],
   "source": [
    "d.open_browser()"
   ]
  }
 ],
 "metadata": {
  "interpreter": {
   "hash": "9ca82aad1025d55d62089753f95b9fe272a349dd3ad99f9274e656dc3d5fe496"
  },
  "kernelspec": {
   "display_name": "Python 3.10.4 ('ev-pd')",
   "language": "python",
   "name": "python3"
  },
  "language_info": {
   "codemirror_mode": {
    "name": "ipython",
    "version": 3
   },
   "file_extension": ".py",
   "mimetype": "text/x-python",
   "name": "python",
   "nbconvert_exporter": "python",
   "pygments_lexer": "ipython3",
   "version": "3.10.4"
  },
  "orig_nbformat": 4
 },
 "nbformat": 4,
 "nbformat_minor": 2
}
